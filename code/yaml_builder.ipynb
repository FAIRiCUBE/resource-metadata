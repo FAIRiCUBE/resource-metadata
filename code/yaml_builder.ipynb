{
 "cells": [
  {
   "cell_type": "markdown",
   "id": "d2e865cd",
   "metadata": {},
   "source": [
    "# YAML builder"
   ]
  },
  {
   "cell_type": "code",
   "execution_count": null,
   "id": "d341fab2",
   "metadata": {},
   "outputs": [],
   "source": [
    "import datetime\n",
    "import ruamel.yaml"
   ]
  },
  {
   "cell_type": "markdown",
   "id": "437b5e29",
   "metadata": {},
   "source": [
    "### Building the YAML file from the markdown"
   ]
  },
  {
   "cell_type": "code",
   "execution_count": null,
   "id": "8aa18d23",
   "metadata": {},
   "outputs": [],
   "source": [
    "def yaml_builder(input_txt, out_yaml):\n",
    "    values = []\n",
    "    document = dict()\n",
    "    particular_fields = ['Objective', 'Framework', 'Platform', 'Keyword', 'Reference link',\n",
    "                         'Example', 'Input data used', 'Output data obtained']\n",
    "    var_lettura = open(input_txt, \"r\").readlines()\n",
    "    for i in var_lettura:\n",
    "        if i != \"\\n\":\n",
    "            s = i.strip(\"\\n\")\n",
    "            s = s.strip(\" \")\n",
    "            s = s.replace(\"'\",\"\")\n",
    "            values.append(s)\n",
    "    for i in range(0,len(values)-1,2):\n",
    "        field = values[i][4:]\n",
    "        val = values[i+1]\n",
    "        if val == '_No response_':\n",
    "            continue\n",
    "        if field in particular_fields:\n",
    "            list_value = val.strip(\" \").split(\", \")\n",
    "            document[field] = list_value\n",
    "        else:\n",
    "            document[field] = val.strip(\" \")\n",
    "    with open(out_yaml, 'w') as file:\n",
    "        yaml = ruamel.yaml.YAML()\n",
    "        yaml.indent(sequence=3, offset=3)\n",
    "        documents = yaml.dump(document, file)\n",
    "    file.close()"
   ]
  }
 ],
 "metadata": {
  "kernelspec": {
   "display_name": "Python 3 (ipykernel)",
   "language": "python",
   "name": "python3"
  },
  "language_info": {
   "codemirror_mode": {
    "name": "ipython",
    "version": 3
   },
   "file_extension": ".py",
   "mimetype": "text/x-python",
   "name": "python",
   "nbconvert_exporter": "python",
   "pygments_lexer": "ipython3",
   "version": "3.9.16"
  }
 },
 "nbformat": 4,
 "nbformat_minor": 5
}
